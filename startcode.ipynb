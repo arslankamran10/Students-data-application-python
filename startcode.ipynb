{
 "cells": [
  {
   "cell_type": "code",
   "execution_count": 24,
   "id": "f635c5e2-b7c9-4141-8eee-b5d2bd4e1109",
   "metadata": {},
   "outputs": [
    {
     "name": "stdin",
     "output_type": "stream",
     "text": [
      "Enter file name: students_data.csv\n"
     ]
    },
    {
     "name": "stdout",
     "output_type": "stream",
     "text": [
      "\n",
      "\n",
      "\t\t\t\t\t Welcome to US high school student records. \t\n",
      "\n",
      "\n",
      "Choose from the following options:\n",
      "\n",
      " 1-Retrieve the sex, age, number of relative in a family, state, and race based on the ID.\n",
      " 2-Retrieve the sex, school support, access internet, attendance rate, and parental involvement associated with a specific race.\n",
      " 3-Retrieve the ID, free time, math score, reading score and writing score of students whose absences are less than 50 based on the parental involvement. \n",
      " 4-Customise Selection. \n",
      " \n"
     ]
    },
    {
     "name": "stdin",
     "output_type": "stream",
     "text": [
      "Enter your option: 1\n"
     ]
    }
   ],
   "source": [
    "import csv\n",
    "\n",
    "filename=input(\"Enter file name:\")\n",
    "try:\n",
    "    with open(filename,'r',encoding='UTF-8') as csv_file:\n",
    "        csv_reader=csv.reader(csv_file)\n",
    "        print(\"\\n\\n\\t\\t\\t\\t\\t Welcome to US high school student records. \\t\\n\")\n",
    "        print(\"\\nChoose from the following options:\\n\\n 1-Retrieve the sex, age, number of relative in a family, state, and race based on the ID.\\n 2-Retrieve the sex, school support, access internet, attendance rate, and parental involvement associated with a specific race.\\n 3-Retrieve the ID, free time, math score, reading score and writing score of students whose absences are less than 50 based on the parental involvement. \\n 4-Customise Selection. \\n \")\n",
    "        option=input(\"Enter your option:\")\n",
    "        \n",
    "except FileNotFoundError as e:\n",
    "    print(f\"File doesnot exist:{e}\")"
   ]
  },
  {
   "cell_type": "code",
   "execution_count": null,
   "id": "e0072078-7bba-4d56-bc64-b449abe00aa9",
   "metadata": {},
   "outputs": [],
   "source": []
  }
 ],
 "metadata": {
  "kernelspec": {
   "display_name": "Python 3 (ipykernel)",
   "language": "python",
   "name": "python3"
  },
  "language_info": {
   "codemirror_mode": {
    "name": "ipython",
    "version": 3
   },
   "file_extension": ".py",
   "mimetype": "text/x-python",
   "name": "python",
   "nbconvert_exporter": "python",
   "pygments_lexer": "ipython3",
   "version": "3.11.7"
  }
 },
 "nbformat": 4,
 "nbformat_minor": 5
}
