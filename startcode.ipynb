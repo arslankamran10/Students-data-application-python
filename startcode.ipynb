{
 "cells": [
  {
   "cell_type": "code",
   "execution_count": 3,
   "id": "f635c5e2-b7c9-4141-8eee-b5d2bd4e1109",
   "metadata": {},
   "outputs": [
    {
     "name": "stdin",
     "output_type": "stream",
     "text": [
      "Enter file name: students_data.csv\n"
     ]
    },
    {
     "name": "stdout",
     "output_type": "stream",
     "text": [
      "\n",
      "\n",
      "\t\t\t\t\t Welcome to US high school student records. \t\n",
      "\n",
      "\n",
      "Choose from the following options:\n",
      "\n",
      " 1-Retrieve the sex, age, number of relative in a family, state, and race based on the ID.\n",
      " 2-Retrieve the sex, school support, access internet, attendance rate, and parental involvement associated with a specific race.\n",
      " 3-Retrieve the ID, free time, math score, reading score and writing score of students whose absences are less than 50 based on the parental involvement. \n",
      " 4-Customise Selection. \n",
      " \n"
     ]
    },
    {
     "name": "stdin",
     "output_type": "stream",
     "text": [
      "Enter your option: 2\n",
      "Enter Race (Asian/Hispanic/African American/White/Other): Asian\n"
     ]
    },
    {
     "name": "stdout",
     "output_type": "stream",
     "text": [
      " Sex: Female \t School Support: no \t Access Internet: no \t Attendance rate: 72.27 \t Parental Involvement: low \n",
      "\n"
     ]
    }
   ],
   "source": [
    "import csv\n",
    "\n",
    "\n",
    "\n",
    "def a1(csv_reader,id):\n",
    "    for row in csv_reader:\n",
    "        if row[0]==id:\n",
    "            print(f\" ID: {row[0]} \\t Sex: {row[1]} \\t Age: {row[2]} \\t Family relative: {row[21]} \\t State: {row[26]} \\t Race: {row[27]}\" )\n",
    "            return (\"\")\n",
    "            #return{\"ID\": row[0],\"Sex\": row[1],\"Age\": row[2],\"Number of Relatives\": row[21],\"State\": row[26],\"Race\": row[27]}\n",
    "    return \"Student ID not found\"   \n",
    "    \n",
    "\n",
    "def a2(csv_reader,race):\n",
    "    for row in csv_reader:\n",
    "        if row[27]==race:\n",
    "            print(f\" Sex: {row[1]} \\t School Support: {row[14]} \\t Access Internet: {row[19]} \\t Attendance rate: {row[31]} \\t Parental Involvement: {row[37]} \")\n",
    "            #return{\"Sex\": row[1], \"School Support\": row[14], \"Access Internet\": row[19], \"Attendance rate\": row[31], \"Parental Involvement\": row[37]}\n",
    "            return(\"\")\n",
    "    return \"Race not found.\"\n",
    "\n",
    "\n",
    "filename=input(\"Enter file name:\")\n",
    "try:\n",
    "    with open(filename,'r',encoding='UTF-8') as csv_file:\n",
    "        csv_reader=csv.reader(csv_file)\n",
    "        heading=next(csv_reader)\n",
    "        print(\"\\n\\n\\t\\t\\t\\t\\t Welcome to US high school student records. \\t\\n\")\n",
    "        print(\"\\nChoose from the following options:\\n\\n 1-Retrieve the sex, age, number of relative in a family, state, and race based on the ID.\\n 2-Retrieve the sex, school support, access internet, attendance rate, and parental involvement associated with a specific race.\\n 3-Retrieve the ID, free time, math score, reading score and writing score of students whose absences are less than 50 based on the parental involvement. \\n 4-Customise Selection. \\n \")\n",
    "        option=input(\"Enter your option:\")\n",
    "        if option == \"1\":\n",
    "            id=input(\"Enter ID (ID-xxxx):\")\n",
    "            print(a1(csv_reader,id))\n",
    "        elif option ==\"2\":\n",
    "            race=input(\"Enter Race (Asian/Hispanic/African American/White/Other):\")\n",
    "            print(a2(csv_reader,race))\n",
    "                \n",
    "except FileNotFoundError as e:\n",
    "    print(f\"File doesnot exist:{e}\")"
   ]
  },
  {
   "cell_type": "code",
   "execution_count": null,
   "id": "e0072078-7bba-4d56-bc64-b449abe00aa9",
   "metadata": {},
   "outputs": [],
   "source": []
  }
 ],
 "metadata": {
  "kernelspec": {
   "display_name": "Python 3 (ipykernel)",
   "language": "python",
   "name": "python3"
  },
  "language_info": {
   "codemirror_mode": {
    "name": "ipython",
    "version": 3
   },
   "file_extension": ".py",
   "mimetype": "text/x-python",
   "name": "python",
   "nbconvert_exporter": "python",
   "pygments_lexer": "ipython3",
   "version": "3.11.7"
  }
 },
 "nbformat": 4,
 "nbformat_minor": 5
}
