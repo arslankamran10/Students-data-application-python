{
 "cells": [
  {
   "cell_type": "code",
   "execution_count": 64,
   "id": "f635c5e2-b7c9-4141-8eee-b5d2bd4e1109",
   "metadata": {},
   "outputs": [
    {
     "name": "stdin",
     "output_type": "stream",
     "text": [
      "Enter file name: students_data.csv\n"
     ]
    },
    {
     "name": "stdout",
     "output_type": "stream",
     "text": [
      "\n",
      "\n",
      "\t\t\t\t\t Welcome to US high school student records. \t\n",
      "\n",
      "\n",
      "Choose from the following options[1-5]:\n",
      "\n",
      " 1-Retrieve the sex, age, number of relative in a family, state, and race based on the ID.\n",
      " 2-Retrieve the sex, school support, access internet, attendance rate, and parental involvement associated with a specific race.\n",
      " 3-Retrieve the ID, free time, math score, reading score and writing score of students whose absences are less than 50 based on the parental involvement. \n",
      " 4-Retrieve traveltime,studytime and failure of students who got school support, associated with guardian \n",
      " 5-More \n",
      "\n"
     ]
    },
    {
     "name": "stdin",
     "output_type": "stream",
     "text": [
      "Enter your option: 5\n"
     ]
    },
    {
     "name": "stdout",
     "output_type": "stream",
     "text": [
      "Choose from the following options[1-5]:\n",
      "\n",
      " 1- Identify the top 3 levels of mother’s education for a specific race of students based on the parental involvement levels. \n",
      " 2- Analyse the average number of absences among students with a particular level of parental involvement. \n",
      " 3- Analyse the average math score of students with an attendance rate greater than 80%, based on race. \n",
      " 4- Analyse customised data. \n",
      " 5- More. \n",
      "\n"
     ]
    },
    {
     "name": "stdin",
     "output_type": "stream",
     "text": [
      "Enter your option[1-5]: 5\n"
     ]
    },
    {
     "name": "stdout",
     "output_type": "stream",
     "text": [
      "Choose from the following options[1-5]:\n",
      "\n",
      " 1- Create a chart to illustrate the proportion of students in this school based on their race. \n",
      " 2- Create a chart to visually compare the average writing scores among students in each race group. \n",
      " 3- Create a chart to illustrate the relationship between students' reading and writing scores. \n",
      " 4- Customised selection. \n",
      " 5- Exit Program. \n",
      "\n"
     ]
    },
    {
     "name": "stdin",
     "output_type": "stream",
     "text": [
      "Enter your option[1-5]: 4\n"
     ]
    },
    {
     "data": {
      "image/png": "[encoded data removed]",
      "text/plain": [
       "<Figure size 1000x600 with 1 Axes>"
      ]
     },
     "metadata": {},
     "output_type": "display_data"
    },
    {
     "name": "stdout",
     "output_type": "stream",
     "text": [
      "None\n"
     ]
    }
   ],
   "source": [
    "import csv\n",
    "import tasks\n",
    "import pandas as pd\n",
    "%matplotlib inline \n",
    "import matplotlib.pyplot as plt\n",
    "#meaningful variables \n",
    "\n",
    "\n",
    "def b1(students_df,race2):\n",
    "    #students_df['Mother_education_level']=int(students_df['Mother_education_level'])\n",
    "    race_filtered_data = students_df[students_df['Race'] == race2]\n",
    "    top_education = race_filtered_data.groupby(['Parental_involvement']).size().reset_index(name='Count')\n",
    "    top_education = top_education.sort_values(by='Count', ascending=False).head(3)\n",
    "    return top_education\n",
    "\n",
    "def b2(students_df, parental_involvement):\n",
    "    if parental_involvement==\"high\" or parental_involvement==\"low\" or parental_involvement==\"medium\":\n",
    "        parental_involvement_data = students_df[students_df['Parental_involvement'] == parental_involvement]\n",
    "        avg_absences = parental_involvement_data['Absences'].mean()\n",
    "        print(f\"Average for {parental_involvement} parental involvement is:\")\n",
    "        return avg_absences\n",
    "    else:\n",
    "        return(\"Enter correct involvement.\")\n",
    "\n",
    "def b3(students_df,min_attendance):\n",
    "        attendance_data = students_df[students_df['Attendance_rate'] > min_attendance]\n",
    "        avg_mathscores = attendance_data.groupby('Race')['Math_score'].mean()\n",
    "        return avg_mathscores\n",
    "\n",
    "def b4(students_df):\n",
    "    internet_access_data = students_df[students_df['Access_internet'] == 'yes']\n",
    "    average_reading_scores = internet_access_data.groupby('Sex')['Writing_score'].mean()\n",
    "    return average_reading_scores\n",
    "\n",
    "def c1(students_df):\n",
    "    race_counts = students_df['Race'].value_counts()\n",
    "    plt.figure()\n",
    "    plt.pie(race_counts, labels=race_counts.index, autopct='%1.1f%%', startangle=140)\n",
    "    plt.title('Proportion of Students Based on Race')\n",
    "    plt.axis('equal')  # Equal aspect ratio ensures the pie chart is circular.\n",
    "    plt.legend(loc='center',bbox_to_anchor=(1.3,1))\n",
    "    plt.show()\n",
    "    return(\"\")\n",
    "\n",
    "def c2(students_df):\n",
    "    avg_writing_scores = students_df.groupby('Race')['Writing_score'].mean()\n",
    "    plt.figure(figsize=(6, 4))\n",
    "    avg_writing_scores.plot(kind='bar', color='blue')\n",
    "    plt.title('Average Writing Scores by Race')\n",
    "    plt.xlabel('Race')\n",
    "    plt.ylabel('Average Writing Score')\n",
    "    plt.xticks(rotation=0)\n",
    "    plt.show()\n",
    "    return(\"\")\n",
    "\n",
    "def c3(students_df):\n",
    "    plt.figure(figsize=(10, 6))\n",
    "    plt.scatter(students_df['Reading_score'], students_df['Writing_score'])\n",
    "    plt.title('Relationship Between Reading and Writing Scores')\n",
    "    plt.xlabel('Reading Score')\n",
    "    plt.ylabel('Writing Score')\n",
    "    plt.grid(True)\n",
    "    plt.show()\n",
    "    return(\"\")\n",
    "\n",
    "\n",
    "def c4(students_df):\n",
    "    avg_math_scores = students_df.groupby('Access_internet')['Math_score'].mean()\n",
    "    plt.figure(figsize=(10, 6))\n",
    "    avg_math_scores.plot(kind='bar', color=['#FF5733', '#33FF57'])\n",
    "    plt.title('Average Math Scores by Internet Access')\n",
    "    plt.xlabel('Internet Access')\n",
    "    plt.ylabel('Average Math Score')\n",
    "    plt.xticks(rotation=0)\n",
    "    plt.show()\n",
    "    return(\"\")\n",
    "\n",
    "\n",
    "#Main Program\n",
    "\n",
    "filename=input(\"Enter file name:\")\n",
    "try:\n",
    "    with open(filename,'r',encoding='UTF-8') as csv_file:\n",
    "        csv_reader=csv.reader(csv_file)\n",
    "        heading=next(csv_reader)\n",
    "        #print(\"\\n\\n\\t\\t\\t\\t\\t Welcome to US high school student records. \\t\\n\")\n",
    "        #print(\"\\nChoose from the following options[1-5]:\\n\\n 1-Retrieve the sex, age, number of relative in a family, state, and race based on the ID.\\n 2-Retrieve the sex, school support, access internet, attendance rate, and parental involvement associated with a specific race.\\n 3-Retrieve the ID, free time, math score, reading score and writing score of students whose absences are less than 50 based on the parental involvement. \\n 4-Retrieve traveltime,studytime and failure of students who got school support, associated with guardian. \\n 5-More. \\n \")\n",
    "        tasks.welcome()\n",
    "        option=input(\"Enter your option:\")\n",
    "        if option == \"1\":\n",
    "            id=input(\"Enter ID (ID-xxxx):\")\n",
    "            tasks.a1(csv_reader,id)\n",
    "            #print(a1(csv_reader,id))\n",
    "        elif option ==\"2\":\n",
    "            race=input(\"Enter Race (Asian/Hispanic/African American/White/Other):\")\n",
    "            tasks.a2(csv_reader,race)\n",
    "            #print(a2(csv_reader,race))\n",
    "        elif option ==\"3\":\n",
    "            involvement=input(\"Enter parental involvement (high/medium/low):\")\n",
    "            tasks.a3(csv_reader,involvement)\n",
    "            #print(a3(csv_reader,involvement))\n",
    "        elif option ==\"4\":             # retrieve traveltime,studytime and failure of students who got school support, associated with guardian\n",
    "            guardian=input(\"Enter guardian (father/mother/other):\")\n",
    "            tasks.a4(csv_reader,guardian)\n",
    "            #print(a4(csv_reader,guardian))\n",
    "        elif option ==\"5\":\n",
    "            students_df=pd.read_csv(filename,header=0,encoding='utf-8')\n",
    "            print(\"Choose from the following options[1-5]:\\n\\n 1- Identify the top 3 levels of mother’s education for a specific race of students based on the parental involvement levels. \\n 2- Analyse the average number of absences among students with a particular level of parental involvement. \\n 3- Analyse the average math score of students with an attendance rate greater than 80%, based on race. \\n 4- Analyse customised data. \\n 5- More. \\n\")\n",
    "            option2=input(\"Enter your option[1-5]:\")\n",
    "            if option2==\"1\":\n",
    "                race2=input(\"Enter race(Asian/Hispanic/African American/White/Other): \")\n",
    "                print(b1(students_df,race2))\n",
    "            elif option2==\"2\":\n",
    "                parent_envolvement2=input(\"Enter level of parental involvement(high/medium/low):\")\n",
    "                #tasks.b2(students_df,parent_envolvement2)\n",
    "                print(b2(students_df,parent_envolvement2))\n",
    "            elif option2==\"3\":\n",
    "                min_attendance=80\n",
    "                print(b3(students_df,min_attendance))\n",
    "            elif option2==\"4\":\n",
    "                print(b4(students_df))\n",
    "            elif option2==\"5\":\n",
    "                print(\"Choose from the following options[1-5]:\\n\\n 1- Create a chart to illustrate the proportion of students in this school based on their race. \\n 2- Create a chart to visually compare the average writing scores among students in each race group. \\n 3- Create a chart to illustrate the relationship between students' reading and writing scores. \\n 4- Customised selection. \\n 5- Exit Program. \\n\")\n",
    "                option3=input(\"Enter your option[1-5]:\")\n",
    "                if option3==\"1\":\n",
    "                    print(c1(students_df))\n",
    "                if option3==\"2\":\n",
    "                    print(c2(students_df))\n",
    "                if option3==\"3\":\n",
    "                    print(c3(students_df))\n",
    "                if option3==\"4\":\n",
    "                    print(c4(students_df))\n",
    "                if option3==\"5\":\n",
    "                    print(\"\\n\\t\\t\\tThankyou for using this program.GOODBYE!! \")\n",
    "        else:\n",
    "            print(\"Enter correct option number.\")\n",
    "except FileNotFoundError as e:\n",
    "    print(f\"File doesnot exist:{e}\")"
   ]
  },
  {
   "cell_type": "code",
   "execution_count": null,
   "id": "da86a439-afa9-4db3-844d-70e1031a2e5a",
   "metadata": {},
   "outputs": [],
   "source": []
  }
 ],
 "metadata": {
  "kernelspec": {
   "display_name": "Python 3 (ipykernel)",
   "language": "python",
   "name": "python3"
  },
  "language_info": {
   "codemirror_mode": {
    "name": "ipython",
    "version": 3
   },
   "file_extension": ".py",
   "mimetype": "text/x-python",
   "name": "python",
   "nbconvert_exporter": "python",
   "pygments_lexer": "ipython3",
   "version": "3.11.7"
  }
 },
 "nbformat": 4,
 "nbformat_minor": 5
}
