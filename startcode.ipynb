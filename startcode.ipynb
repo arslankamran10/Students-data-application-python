{
 "cells": [
  {
   "cell_type": "code",
   "execution_count": 5,
   "id": "ca545fd6-060e-4563-8b7a-bdb77c8b7c0d",
   "metadata": {},
   "outputs": [
    {
     "name": "stdin",
     "output_type": "stream",
     "text": [
      "Enter file name: students_data.csv\n"
     ]
    },
    {
     "name": "stdout",
     "output_type": "stream",
     "text": [
      "\n",
      "\n",
      "\t\t\t\t\t Welcome to US high school student records. \t\n",
      "\n",
      "\n",
      "Choose from the following options[1-5]:\n",
      "\n",
      " 1-Retrieve the sex, age, number of relative in a family, state, and race based on the ID.\n",
      " 2-Retrieve the sex, school support, access internet, attendance rate, and parental involvement associated with a specific race.\n",
      " 3-Retrieve the ID, free time, math score, reading score and writing score of students whose absences are less than 50 based on the parental involvement. \n",
      " 4-Retrieve traveltime,studytime and failure of students who got school support, associated with guardian \n",
      " 5-More \n",
      "\n"
     ]
    },
    {
     "name": "stdin",
     "output_type": "stream",
     "text": [
      "Enter your option: 5\n"
     ]
    },
    {
     "name": "stdout",
     "output_type": "stream",
     "text": [
      "Choose from the following options[1-5]:\n",
      "\n",
      " 1- Identify the top 3 levels of mother’s education for a specific race of students based on the parental involvement levels. \n",
      " 2- Analyse the average number of absences among students with a particular level of parental involvement. \n",
      " 3- Analyse the average math score of students with an attendance rate greater than 80%, based on race. \n",
      " 4- Analyse the average writing score of students that have access to internet, based on genders. \n",
      " 5- More. \n",
      "\n"
     ]
    },
    {
     "name": "stdin",
     "output_type": "stream",
     "text": [
      "Enter your option[1-5]: 5\n"
     ]
    },
    {
     "name": "stdout",
     "output_type": "stream",
     "text": [
      "Choose from the following options[1-5]:\n",
      "\n",
      " 1- Create a chart to illustrate the proportion of students in this school based on their race. \n",
      " 2- Create a chart to visually compare the average writing scores among students in each race group. \n",
      " 3- Create a chart to illustrate the relationship between student's reading and writing scores. \n",
      " 4- Create a chart to compare the average maths score of the students that have internet access. \n",
      " 5- Exit Program. \n",
      "\n"
     ]
    },
    {
     "name": "stdin",
     "output_type": "stream",
     "text": [
      "Enter your option[1-5]: s\n"
     ]
    },
    {
     "name": "stdout",
     "output_type": "stream",
     "text": [
      "\t\t\t\t\t Enter correct option number. \n",
      "\n",
      "\n",
      "\n",
      "\n",
      "\t\t\t\t\t Welcome to US high school student records. \t\n",
      "\n",
      "\n",
      "Choose from the following options[1-5]:\n",
      "\n",
      " 1-Retrieve the sex, age, number of relative in a family, state, and race based on the ID.\n",
      " 2-Retrieve the sex, school support, access internet, attendance rate, and parental involvement associated with a specific race.\n",
      " 3-Retrieve the ID, free time, math score, reading score and writing score of students whose absences are less than 50 based on the parental involvement. \n",
      " 4-Retrieve traveltime,studytime and failure of students who got school support, associated with guardian \n",
      " 5-More \n",
      "\n"
     ]
    },
    {
     "name": "stdin",
     "output_type": "stream",
     "text": [
      "Enter your option: 5\n"
     ]
    },
    {
     "name": "stdout",
     "output_type": "stream",
     "text": [
      "Choose from the following options[1-5]:\n",
      "\n",
      " 1- Identify the top 3 levels of mother’s education for a specific race of students based on the parental involvement levels. \n",
      " 2- Analyse the average number of absences among students with a particular level of parental involvement. \n",
      " 3- Analyse the average math score of students with an attendance rate greater than 80%, based on race. \n",
      " 4- Analyse the average writing score of students that have access to internet, based on genders. \n",
      " 5- More. \n",
      "\n"
     ]
    },
    {
     "name": "stdin",
     "output_type": "stream",
     "text": [
      "Enter your option[1-5]: 5\n"
     ]
    },
    {
     "name": "stdout",
     "output_type": "stream",
     "text": [
      "Choose from the following options[1-5]:\n",
      "\n",
      " 1- Create a chart to illustrate the proportion of students in this school based on their race. \n",
      " 2- Create a chart to visually compare the average writing scores among students in each race group. \n",
      " 3- Create a chart to illustrate the relationship between student's reading and writing scores. \n",
      " 4- Create a chart to compare the average maths score of the students that have internet access. \n",
      " 5- Exit Program. \n",
      "\n"
     ]
    },
    {
     "name": "stdin",
     "output_type": "stream",
     "text": [
      "Enter your option[1-5]: 5\n"
     ]
    },
    {
     "name": "stdout",
     "output_type": "stream",
     "text": [
      "\n",
      "\t\t\tThankyou for using this program.GOODBYE!! \n"
     ]
    }
   ],
   "source": [
    "import csv\n",
    "import tasks\n",
    "from tasks import a1,a2,a3,a4,b1,b2,b3,b4,c1,c2,c3,c4\n",
    "import pandas as pd\n",
    "%matplotlib inline \n",
    "import matplotlib.pyplot as plt\n",
    "    \n",
    "\n",
    "def recursive_program():\n",
    "    proceed=input(\"Do you want to continue (yes/no)?\")\n",
    "    if proceed==\"yes\":\n",
    "        main()\n",
    "    else:\n",
    "        print(\"Thankyou. Goodbye!!\")\n",
    "\n",
    "\n",
    "filename=input(\"Enter file name:\")\n",
    "\n",
    "\n",
    "#Main Program\n",
    "def main():\n",
    "    try:\n",
    "        with open(filename,'r',encoding='UTF-8') as csv_file:\n",
    "            csv_reader=csv.reader(csv_file)\n",
    "            heading=next(csv_reader)\n",
    "            tasks.welcome()\n",
    "            option=input(\"Enter your option:\")\n",
    "            if option == \"1\":\n",
    "                id=input(\"Enter ID (ID-xxxx):\")\n",
    "                print(a1(csv_reader,id))\n",
    "                recursive_program()\n",
    "            elif option ==\"2\":\n",
    "                race=input(\"Enter Race (Asian/Hispanic/African American/White/Other):\")\n",
    "                print(a2(csv_reader,race))\n",
    "                recursive_program()\n",
    "            elif option ==\"3\":\n",
    "                involvement=input(\"Enter parental involvement (high/medium/low):\")\n",
    "                print(a3(csv_reader,involvement))\n",
    "                recursive_program()\n",
    "            elif option ==\"4\":            \n",
    "                guardian=input(\"Enter guardian (father/mother/other):\")\n",
    "                print(a4(csv_reader,guardian))\n",
    "                recursive_program()\n",
    "            elif option ==\"5\":\n",
    "                students_df=pd.read_csv(filename,header=0,encoding='utf-8')\n",
    "                print(\"Choose from the following options[1-5]:\\n\\n 1- Identify the top 3 levels of mother’s education for a specific race of students based on the parental involvement levels. \\n 2- Analyse the average number of absences among students with a particular level of parental involvement. \\n 3- Analyse the average math score of students with an attendance rate greater than 80%, based on race. \\n 4- Analyse the average writing score of students that have access to internet, based on genders. \\n 5- More. \\n\")\n",
    "                option2=input(\"Enter your option[1-5]:\")\n",
    "                if option2==\"1\":\n",
    "                    race2=input(\"Enter race(Asian/Hispanic/African American/White/Other): \")\n",
    "                    print(b1(students_df,race2))\n",
    "                    recursive_program()\n",
    "                elif option2==\"2\":\n",
    "                    parent_envolvement2=input(\"Enter level of parental involvement(high/medium/low):\")\n",
    "                    print(b2(students_df,parent_envolvement2))\n",
    "                    recursive_program()\n",
    "                elif option2==\"3\":\n",
    "                    min_attendance=80\n",
    "                    print(b3(students_df,min_attendance))\n",
    "                    recursive_program()\n",
    "                elif option2==\"4\":\n",
    "                    print(b4(students_df))\n",
    "                    recursive_program()\n",
    "                elif option2==\"5\":\n",
    "                    print(\"Choose from the following options[1-5]:\\n\\n 1- Create a chart to illustrate the proportion of students in this school based on their race. \\n 2- Create a chart to visually compare the average writing scores among students in each race group. \\n 3- Create a chart to illustrate the relationship between student's reading and writing scores. \\n 4- Create a chart to compare the average maths score of the students that have internet access. \\n 5- Exit Program. \\n\")\n",
    "                    option3=input(\"Enter your option[1-5]:\")\n",
    "                else:\n",
    "                    print(\"\\t\\t\\t\\t\\t Enter correct option number. \\n\\n\")\n",
    "                    main()\n",
    "                if option3==\"1\":\n",
    "                        print(c1(students_df))\n",
    "                        recursive_program()\n",
    "                elif option3==\"2\":\n",
    "                        print(c2(students_df))\n",
    "                        recursive_program()\n",
    "                elif option3==\"3\":\n",
    "                        print(c3(students_df))\n",
    "                        recursive_program()\n",
    "                elif option3==\"4\":\n",
    "                        print(c4(students_df))\n",
    "                        recursive_program()\n",
    "                elif option3==\"5\":\n",
    "                        print(\"\\n\\t\\t\\tThankyou for using this program.GOODBYE!! \")\n",
    "                else:\n",
    "                        print(\"\\t\\t\\t\\t\\t Enter correct option number. \\n\\n\")\n",
    "                        main()\n",
    "                       \n",
    "            else:\n",
    "                print(\"\\t\\t\\t\\t\\t Enter correct option number. \\n\\n\")\n",
    "                main()\n",
    "    except FileNotFoundError as e:\n",
    "        print(f\"File doesnot exist:{e}\")\n",
    "        \n",
    "\n",
    "if __name__ == \"__main__\":\n",
    "    main()"
   ]
  },
  {
   "cell_type": "code",
   "execution_count": null,
   "id": "f898603e-04e5-4e34-83a4-02200c0b40d3",
   "metadata": {},
   "outputs": [],
   "source": []
  }
 ],
 "metadata": {
  "kernelspec": {
   "display_name": "Python 3 (ipykernel)",
   "language": "python",
   "name": "python3"
  },
  "language_info": {
   "codemirror_mode": {
    "name": "ipython",
    "version": 3
   },
   "file_extension": ".py",
   "mimetype": "text/x-python",
   "name": "python",
   "nbconvert_exporter": "python",
   "pygments_lexer": "ipython3",
   "version": "3.11.7"
  }
 },
 "nbformat": 4,
 "nbformat_minor": 5
}
