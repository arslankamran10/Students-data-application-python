{
 "cells": [
  {
   "cell_type": "code",
   "execution_count": 14,
   "id": "ca545fd6-060e-4563-8b7a-bdb77c8b7c0d",
   "metadata": {},
   "outputs": [
    {
     "name": "stdin",
     "output_type": "stream",
     "text": [
      "Enter file name: hd\n"
     ]
    },
    {
     "name": "stdout",
     "output_type": "stream",
     "text": [
      "File doesnot exist:[Errno 2] No such file or directory: 'hd'\n"
     ]
    }
   ],
   "source": [
    "import csv\n",
    "import tasks\n",
    "from tasks import a1,a2,a3,a4,b1,b2,b3,b4,c1,c2,c3,c4\n",
    "import pandas as pd\n",
    "%matplotlib inline \n",
    "import matplotlib.pyplot as plt\n",
    " \n",
    "def recursive_program():\n",
    "    proceed=input(\"Do you want to continue (yes/no)?\")\n",
    "    if proceed==\"yes\":\n",
    "        main()\n",
    "    else:\n",
    "        print(\"Thankyou. Goodbye!!\")\n",
    "\n",
    "filename=input(\"Enter file name:\")\n",
    "\n",
    "\n",
    "#Main Program\n",
    "def main():\n",
    "    try:\n",
    "        with open(filename,'r',encoding='UTF-8') as csv_file:\n",
    "            csv_reader=csv.reader(csv_file)\n",
    "            heading=next(csv_reader)\n",
    "            tasks.welcome()\n",
    "            option=input(\"Enter your option:\")\n",
    "            if option == \"1\":\n",
    "                id=input(\"Enter ID (ID-xxxx):\")\n",
    "                #tasks.a1(csv_reader,id)\n",
    "                print(a1(csv_reader,id))\n",
    "                recursive_program()\n",
    "            elif option ==\"2\":\n",
    "                race=input(\"Enter Race (Asian/Hispanic/African American/White/Other):\")\n",
    "                #tasks.a2(csv_reader,race)\n",
    "                print(a2(csv_reader,race))\n",
    "                recursive_program()\n",
    "            elif option ==\"3\":\n",
    "                involvement=input(\"Enter parental involvement (high/medium/low):\")\n",
    "                #tasks.a3(csv_reader,involvement)\n",
    "                print(a3(csv_reader,involvement))\n",
    "                recursive_program()\n",
    "            elif option ==\"4\":            \n",
    "                guardian=input(\"Enter guardian (father/mother/other):\")\n",
    "                #tasks.a4(csv_reader,guardian)\n",
    "                print(a4(csv_reader,guardian))\n",
    "                recursive_program()\n",
    "            elif option ==\"5\":\n",
    "                students_df=pd.read_csv(filename,header=0,encoding='utf-8')\n",
    "                print(\"Choose from the following options[1-5]:\\n\\n 1- Identify the top 3 levels of mother’s education for a specific race of students based on the parental involvement levels. \\n 2- Analyse the average number of absences among students with a particular level of parental involvement. \\n 3- Analyse the average math score of students with an attendance rate greater than 80%, based on race. \\n 4- Analyse customised data. \\n 5- More. \\n\")\n",
    "                option2=input(\"Enter your option[1-5]:\")\n",
    "                if option2==\"1\":\n",
    "                    race2=input(\"Enter race(Asian/Hispanic/African American/White/Other): \")\n",
    "                    print(b1(students_df,race2))\n",
    "                    recursive_program()\n",
    "                elif option2==\"2\":\n",
    "                    parent_envolvement2=input(\"Enter level of parental involvement(high/medium/low):\")\n",
    "                    #tasks.b2(students_df,parent_envolvement2)\n",
    "                    print(b2(students_df,parent_envolvement2))\n",
    "                    recursive_program()\n",
    "                elif option2==\"3\":\n",
    "                    min_attendance=80\n",
    "                    print(b3(students_df,min_attendance))\n",
    "                    recursive_program()\n",
    "                elif option2==\"4\":\n",
    "                    print(b4(students_df))\n",
    "                    recursive_program()\n",
    "                elif option2==\"5\":\n",
    "                    print(\"Choose from the following options[1-5]:\\n\\n 1- Create a chart to illustrate the proportion of students in this school based on their race. \\n 2- Create a chart to visually compare the average writing scores among students in each race group. \\n 3- Create a chart to illustrate the relationship between students' reading and writing scores. \\n 4- Customised selection. \\n 5- Exit Program. \\n\")\n",
    "                    option3=input(\"Enter your option[1-5]:\")\n",
    "                    if option3==\"1\":\n",
    "                        print(c1(students_df))\n",
    "                        recursive_program()\n",
    "                    elif option3==\"2\":\n",
    "                        print(c2(students_df))\n",
    "                        recursive_program()\n",
    "                    elif option3==\"3\":\n",
    "                        print(c3(students_df))\n",
    "                        recursive_program()\n",
    "                    elif option3==\"4\":\n",
    "                        print(c4(students_df))\n",
    "                        recursive_program()\n",
    "                    elif option3==\"5\":\n",
    "                        print(\"\\n\\t\\t\\tThankyou for using this program.GOODBYE!! \")\n",
    "                       \n",
    "            else:\n",
    "                print(\"\\t\\t\\t\\t\\t Enter correct option number. \\n\\n\")\n",
    "                main()\n",
    "    except FileNotFoundError as e:\n",
    "        print(f\"File doesnot exist:{e}\")\n",
    "        \n",
    "\n",
    "if __name__ == \"__main__\":\n",
    "    main()"
   ]
  },
  {
   "cell_type": "code",
   "execution_count": null,
   "id": "643183d4-1c89-4230-b70e-cea8e0c0e5d3",
   "metadata": {},
   "outputs": [],
   "source": []
  }
 ],
 "metadata": {
  "kernelspec": {
   "display_name": "Python 3 (ipykernel)",
   "language": "python",
   "name": "python3"
  },
  "language_info": {
   "codemirror_mode": {
    "name": "ipython",
    "version": 3
   },
   "file_extension": ".py",
   "mimetype": "text/x-python",
   "name": "python",
   "nbconvert_exporter": "python",
   "pygments_lexer": "ipython3",
   "version": "3.11.7"
  }
 },
 "nbformat": 4,
 "nbformat_minor": 5
}
