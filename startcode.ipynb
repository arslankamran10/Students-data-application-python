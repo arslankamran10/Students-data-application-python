{
 "cells": [
  {
   "cell_type": "code",
   "execution_count": 28,
   "id": "f635c5e2-b7c9-4141-8eee-b5d2bd4e1109",
   "metadata": {},
   "outputs": [
    {
     "name": "stdin",
     "output_type": "stream",
     "text": [
      "Enter file name: s\n"
     ]
    },
    {
     "name": "stdout",
     "output_type": "stream",
     "text": [
      "File doesnot exist:[Errno 2] No such file or directory: 's'\n"
     ]
    }
   ],
   "source": [
    "import csv\n",
    "import tasks\n",
    "import pandas as pd\n",
    "\n",
    "#meaningful variables \n",
    "    \n",
    "def b1(students_df,race2):\n",
    "    #students_df['Mother_education_level']=int(students_df['Mother_education_level'])\n",
    "    race_filtered_data = students_df[students_df['Race'] == race2]\n",
    "    top_education = race_filtered_data.groupby(['Parental_involvement']).size().reset_index(name='Count')\n",
    "    top_education = top_education.sort_values(by='Count', ascending=False).head(3)\n",
    "    return top_education\n",
    "\n",
    "def b2(students_df, parental_involvement):\n",
    "    parental_involvement_data = students_df[students_df['Parental_involvement'] == parental_involvement]\n",
    "    avg_absences = parental_involvement_data['Absences'].mean()\n",
    "    print(f\"Average for {parental_involvement} parental involvement is:\")\n",
    "    return avg_absences\n",
    "\n",
    "\n",
    "#Main Program\n",
    "\n",
    "filename=input(\"Enter file name:\")\n",
    "try:\n",
    "    with open(filename,'r',encoding='UTF-8') as csv_file:\n",
    "        csv_reader=csv.reader(csv_file)\n",
    "        heading=next(csv_reader)\n",
    "        print(\"\\n\\n\\t\\t\\t\\t\\t Welcome to US high school student records. \\t\\n\")\n",
    "        print(\"\\nChoose from the following options[1-5]:\\n\\n 1-Retrieve the sex, age, number of relative in a family, state, and race based on the ID.\\n 2-Retrieve the sex, school support, access internet, attendance rate, and parental involvement associated with a specific race.\\n 3-Retrieve the ID, free time, math score, reading score and writing score of students whose absences are less than 50 based on the parental involvement. \\n 4-Retrieve traveltime,studytime and failure of students who got school support, associated with guardian. \\n 5-More. \\n \")\n",
    "        option=input(\"Enter your option:\")\n",
    "        if option == \"1\":\n",
    "            id=input(\"Enter ID (ID-xxxx):\")\n",
    "            tasks.a1(csv_reader,id)\n",
    "            #print(a1(csv_reader,id))\n",
    "        elif option ==\"2\":\n",
    "            race=input(\"Enter Race (Asian/Hispanic/African American/White/Other):\")\n",
    "            tasks.a2(csv_reader,race)\n",
    "            #print(a2(csv_reader,race))\n",
    "        elif option ==\"3\":\n",
    "            involvement=input(\"Enter parental involvement (high/medium/low):\")\n",
    "            tasks.a3(csv_reader,involvement)\n",
    "            #print(a3(csv_reader,involvement))\n",
    "        elif option ==\"4\":             # retrieve traveltime,studytime and failure of students who got school support, associated with guardian\n",
    "            guardian=input(\"Enter guardian (father/mother/other):\")\n",
    "            tasks.a4(csv_reader,guardian)\n",
    "            #print(a4(csv_reader,guardian))\n",
    "        elif option ==\"5\":\n",
    "            students_df=pd.read_csv(filename,header=0,encoding='utf-8')\n",
    "            print(\"Choose from the following options[1-5]:\\n\\n 1- Identify the top 3 levels of mother’s education for a specific race of students based on the parental involvement levels. \\n 2- Analyse the average number of absences among students with a particular level of parental involvement. \\n 3- Analyse the average math score of students with an attendance rate greater than 80%, based on race. \\n 4- Analyse customised data. \\n 5- More. \\n\")\n",
    "            option2=input(\"Enter your option[1-5]:\")\n",
    "            if option2==\"1\":\n",
    "                race2=input(\"Enter race(Asian/Hispanic/African American/White/Other): \")\n",
    "                print(b1(students_df,race2))\n",
    "            elif option2==\"2\":\n",
    "                parent_envolvement2=input(\"Enter level of parental involvement(high/medium/low):\")\n",
    "                print(b2(students_df,parent_envolvement2))\n",
    "        else:\n",
    "            print(\"Enter correct option number.\")\n",
    "except FileNotFoundError as e:\n",
    "    print(f\"File doesnot exist:{e}\")"
   ]
  },
  {
   "cell_type": "code",
   "execution_count": null,
   "id": "e0072078-7bba-4d56-bc64-b449abe00aa9",
   "metadata": {},
   "outputs": [],
   "source": []
  }
 ],
 "metadata": {
  "kernelspec": {
   "display_name": "Python 3 (ipykernel)",
   "language": "python",
   "name": "python3"
  },
  "language_info": {
   "codemirror_mode": {
    "name": "ipython",
    "version": 3
   },
   "file_extension": ".py",
   "mimetype": "text/x-python",
   "name": "python",
   "nbconvert_exporter": "python",
   "pygments_lexer": "ipython3",
   "version": "3.11.7"
  }
 },
 "nbformat": 4,
 "nbformat_minor": 5
}
